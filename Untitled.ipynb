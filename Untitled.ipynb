{
 "cells": [
  {
   "cell_type": "code",
   "execution_count": 1,
   "metadata": {
    "collapsed": true
   },
   "outputs": [],
   "source": [
    "import json\n",
    "import urllib.request"
   ]
  },
  {
   "cell_type": "code",
   "execution_count": 2,
   "metadata": {
    "collapsed": false
   },
   "outputs": [
    {
     "name": "stdout",
     "output_type": "stream",
     "text": [
      "http://api.gbif.org/v1/species/match?&name=Cocos+nucifera\n"
     ]
    },
    {
     "data": {
      "text/plain": [
       "{'canonicalName': 'Cocos nucifera',\n",
       " 'class': 'Liliopsida',\n",
       " 'classKey': 196,\n",
       " 'confidence': 98,\n",
       " 'family': 'Arecaceae',\n",
       " 'familyKey': 7681,\n",
       " 'genus': 'Cocos',\n",
       " 'genusKey': 2735116,\n",
       " 'kingdom': 'Plantae',\n",
       " 'kingdomKey': 6,\n",
       " 'matchType': 'EXACT',\n",
       " 'order': 'Arecales',\n",
       " 'orderKey': 552,\n",
       " 'phylum': 'Tracheophyta',\n",
       " 'phylumKey': 7707728,\n",
       " 'rank': 'SPECIES',\n",
       " 'scientificName': 'Cocos nucifera L.',\n",
       " 'species': 'Cocos nucifera',\n",
       " 'speciesKey': 2735117,\n",
       " 'status': 'ACCEPTED',\n",
       " 'synonym': False,\n",
       " 'usageKey': 2735117}"
      ]
     },
     "execution_count": 2,
     "metadata": {},
     "output_type": "execute_result"
    }
   ],
   "source": [
    "# The GBIF record for Leptocoris vicinus is obviously wrong.\n",
    "\n",
    "\n",
    "\n",
    "#taxon_name_str = 'Leptocoris vicinus'\n",
    "taxon_name_str = 'Cocos nucifera'\n",
    "taxon_name_str = taxon_name_str.replace(' ', '+')\n",
    "root_url = 'http://api.gbif.org/v1/species/match?'\n",
    "url = '{}&name={}'.format(root_url, taxon_name_str)\n",
    "print(url)\n",
    "response = urllib.request.urlopen(url).read()\n",
    "gbif_json = json.loads(response.decode('utf-8'))\n",
    "gbif_json"
   ]
  },
  {
   "cell_type": "code",
   "execution_count": 33,
   "metadata": {
    "collapsed": false
   },
   "outputs": [
    {
     "data": {
      "text/plain": [
       "True"
      ]
     },
     "execution_count": 33,
     "metadata": {},
     "output_type": "execute_result"
    }
   ],
   "source": [
    "gbif_json['matchType'] == 'EXACT'"
   ]
  },
  {
   "cell_type": "code",
   "execution_count": 10,
   "metadata": {
    "collapsed": false
   },
   "outputs": [
    {
     "data": {
      "text/plain": [
       "[{'kingdom': 'Plantae'},\n",
       " {'phylum': 'Tracheophyta'},\n",
       " {'class': 'Liliopsida'},\n",
       " {'family': 'Arecaceae'},\n",
       " {'genus': 'Cocos'},\n",
       " {'species': 'Cocos nucifera'}]"
      ]
     },
     "execution_count": 10,
     "metadata": {},
     "output_type": "execute_result"
    }
   ],
   "source": [
    "taxon_list = []\n",
    "for rank in ['kingdom', 'phylum', 'class', 'family', 'genus', 'species']:\n",
    "    if rank in gbif_json:\n",
    "        taxon_list.append({rank: gbif_json[rank]})\n",
    "taxon_list  "
   ]
  },
  {
   "cell_type": "code",
   "execution_count": 30,
   "metadata": {
    "collapsed": false
   },
   "outputs": [
    {
     "name": "stdout",
     "output_type": "stream",
     "text": [
      "phylum Tracheophyta\n"
     ]
    }
   ],
   "source": [
    "d = taxon_list[1]\n",
    "for key, value in d.items():\n",
    "    print(key, value)"
   ]
  },
  {
   "cell_type": "code",
   "execution_count": 46,
   "metadata": {
    "collapsed": false
   },
   "outputs": [],
   "source": [
    "class Taxon_resolver:\n",
    "    '''\n",
    "    Uses the GBIF Species API to resolve a taxonomic name.\n",
    "\n",
    "    Example usage:\n",
    "\n",
    "        x = Taxon_resolver('Apis mellifera')\n",
    "        if x.name_resolved:\n",
    "            <do stuff with the returned data>\n",
    "        else:\n",
    "            print('Taxon name not resolved.')\n",
    "            print('Here is what was returned:\\n')\n",
    "            print(x.gbif_json) # let the user see what was returned\n",
    "\n",
    "    Properties:\n",
    "\n",
    "        gbif_json:        raw data from the NCBI taxonomy in json format\n",
    "        name_resolved:    a boolean indicating whther of no the target name was found\n",
    "        taxon_list:       names for taxonomic tree, from root to target name\n",
    "        rank_list:        taxonomic ranks a=for taxon_list\n",
    "    '''\n",
    "\n",
    "# http://api.gbif.org/v1/species/match?verbose=true&kingdom=Plantae&name=Oenante\n",
    "\n",
    "\n",
    "    def __init__(self, taxon_name_str):\n",
    "        root_url = 'http://api.gbif.org/v1/species/match?'\n",
    "        url = '{}name={}'.format(root_url, taxon_name_str)\n",
    "        try:\n",
    "            response = urllib.request.urlopen(url).read()\n",
    "            self.response = response\n",
    "            j = json.loads(response.decode('utf-8'))\n",
    "            self.gbif_json = j\n",
    "#            if j['canonicalName]:\n",
    "#                 self.canonicalName = j['canonicalName']\n",
    "#            self.taxon_class = j['class']\n",
    "            \n",
    "            \"\"\"\n",
    " 'classKey': 196,\n",
    " 'confidence': 98,\n",
    " 'family': 'Arecaceae',\n",
    " 'familyKey': 7681,\n",
    " 'genus': 'Cocos',\n",
    " 'genusKey': 2735116,\n",
    " 'kingdom': 'Plantae',\n",
    " 'kingdomKey': 6,\n",
    " 'matchType': 'EXACT',\n",
    " 'order': 'Arecales',\n",
    " 'orderKey': 552,\n",
    " 'phylum': 'Tracheophyta',\n",
    " 'phylumKey': 7707728,\n",
    " 'rank': 'SPECIES',\n",
    " 'scientificName': 'Cocos nucifera L.',\n",
    " 'species': 'Cocos nucifera',\n",
    " 'speciesKey': 2735117,\n",
    " 'status': 'ACCEPTED',\n",
    " 'synonym': False,\n",
    " 'usageKey': 2735117}  \n",
    " \n",
    "            \n",
    "            \n",
    "            \n",
    "            \n",
    "            \n",
    "            \n",
    "            self.name_resolved = self.ncbi_json['data'][0]['is_known_name']\n",
    "            if self.name_resolved:\n",
    "                self.taxon_list = self.ncbi_json['data'][0]['results'][0]['classification_path'].split(\"|\")\n",
    "                self.rank_list = self.ncbi_json['data'][0]['results'][0]['classification_path_ranks'].split(\"|\")\n",
    "                self.common_name_list = []\n",
    "                vernaculars = self.ncbi_json['data'][0]['results'][0]['vernaculars']\n",
    "                for vernacular in vernaculars:\n",
    "                    self.common_name_list.append(vernacular['name'])\n",
    "\"\"\"\n",
    "        except urllib.error.URLError as e:\n",
    "            print(e.reason)          "
   ]
  },
  {
   "cell_type": "code",
   "execution_count": 47,
   "metadata": {
    "collapsed": false
   },
   "outputs": [],
   "source": [
    "x = Taxon_resolver('xxx')"
   ]
  },
  {
   "cell_type": "code",
   "execution_count": 52,
   "metadata": {
    "collapsed": false
   },
   "outputs": [
    {
     "ename": "JSONDecodeError",
     "evalue": "Expecting value: line 1 column 1 (char 0)",
     "output_type": "error",
     "traceback": [
      "\u001b[1;31m---------------------------------------------------------------------------\u001b[0m",
      "\u001b[1;31mJSONDecodeError\u001b[0m                           Traceback (most recent call last)",
      "\u001b[1;32m<ipython-input-52-2b133a0024a8>\u001b[0m in \u001b[0;36m<module>\u001b[1;34m()\u001b[0m\n\u001b[0;32m      2\u001b[0m \u001b[1;32mdef\u001b[0m \u001b[0mjson2obj\u001b[0m\u001b[1;33m(\u001b[0m\u001b[0mdata\u001b[0m\u001b[1;33m)\u001b[0m\u001b[1;33m:\u001b[0m \u001b[1;32mreturn\u001b[0m \u001b[0mjson\u001b[0m\u001b[1;33m.\u001b[0m\u001b[0mloads\u001b[0m\u001b[1;33m(\u001b[0m\u001b[0mdata\u001b[0m\u001b[1;33m,\u001b[0m \u001b[0mobject_hook\u001b[0m\u001b[1;33m=\u001b[0m\u001b[0m_json_object_hook\u001b[0m\u001b[1;33m)\u001b[0m\u001b[1;33m\u001b[0m\u001b[0m\n\u001b[0;32m      3\u001b[0m \u001b[1;33m\u001b[0m\u001b[0m\n\u001b[1;32m----> 4\u001b[1;33m \u001b[0my\u001b[0m \u001b[1;33m=\u001b[0m \u001b[0mjson2obj\u001b[0m\u001b[1;33m(\u001b[0m\u001b[0mstr\u001b[0m\u001b[1;33m(\u001b[0m\u001b[0mx\u001b[0m\u001b[1;33m.\u001b[0m\u001b[0mresponse\u001b[0m\u001b[1;33m)\u001b[0m\u001b[1;33m)\u001b[0m\u001b[1;33m\u001b[0m\u001b[0m\n\u001b[0m",
      "\u001b[1;32m<ipython-input-52-2b133a0024a8>\u001b[0m in \u001b[0;36mjson2obj\u001b[1;34m(data)\u001b[0m\n\u001b[0;32m      1\u001b[0m \u001b[1;32mdef\u001b[0m \u001b[0m_json_object_hook\u001b[0m\u001b[1;33m(\u001b[0m\u001b[0md\u001b[0m\u001b[1;33m)\u001b[0m\u001b[1;33m:\u001b[0m \u001b[1;32mreturn\u001b[0m \u001b[0mnamedtuple\u001b[0m\u001b[1;33m(\u001b[0m\u001b[1;34m'X'\u001b[0m\u001b[1;33m,\u001b[0m \u001b[0md\u001b[0m\u001b[1;33m.\u001b[0m\u001b[0mkeys\u001b[0m\u001b[1;33m(\u001b[0m\u001b[1;33m)\u001b[0m\u001b[1;33m)\u001b[0m\u001b[1;33m(\u001b[0m\u001b[1;33m*\u001b[0m\u001b[0md\u001b[0m\u001b[1;33m.\u001b[0m\u001b[0mvalues\u001b[0m\u001b[1;33m(\u001b[0m\u001b[1;33m)\u001b[0m\u001b[1;33m)\u001b[0m\u001b[1;33m\u001b[0m\u001b[0m\n\u001b[1;32m----> 2\u001b[1;33m \u001b[1;32mdef\u001b[0m \u001b[0mjson2obj\u001b[0m\u001b[1;33m(\u001b[0m\u001b[0mdata\u001b[0m\u001b[1;33m)\u001b[0m\u001b[1;33m:\u001b[0m \u001b[1;32mreturn\u001b[0m \u001b[0mjson\u001b[0m\u001b[1;33m.\u001b[0m\u001b[0mloads\u001b[0m\u001b[1;33m(\u001b[0m\u001b[0mdata\u001b[0m\u001b[1;33m,\u001b[0m \u001b[0mobject_hook\u001b[0m\u001b[1;33m=\u001b[0m\u001b[0m_json_object_hook\u001b[0m\u001b[1;33m)\u001b[0m\u001b[1;33m\u001b[0m\u001b[0m\n\u001b[0m\u001b[0;32m      3\u001b[0m \u001b[1;33m\u001b[0m\u001b[0m\n\u001b[0;32m      4\u001b[0m \u001b[0my\u001b[0m \u001b[1;33m=\u001b[0m \u001b[0mjson2obj\u001b[0m\u001b[1;33m(\u001b[0m\u001b[0mstr\u001b[0m\u001b[1;33m(\u001b[0m\u001b[0mx\u001b[0m\u001b[1;33m.\u001b[0m\u001b[0mresponse\u001b[0m\u001b[1;33m)\u001b[0m\u001b[1;33m)\u001b[0m\u001b[1;33m\u001b[0m\u001b[0m\n",
      "\u001b[1;32m/home/aubreymoore/anaconda3/lib/python3.5/json/__init__.py\u001b[0m in \u001b[0;36mloads\u001b[1;34m(s, encoding, cls, object_hook, parse_float, parse_int, parse_constant, object_pairs_hook, **kw)\u001b[0m\n\u001b[0;32m    330\u001b[0m     \u001b[1;32mif\u001b[0m \u001b[0mparse_constant\u001b[0m \u001b[1;32mis\u001b[0m \u001b[1;32mnot\u001b[0m \u001b[1;32mNone\u001b[0m\u001b[1;33m:\u001b[0m\u001b[1;33m\u001b[0m\u001b[0m\n\u001b[0;32m    331\u001b[0m         \u001b[0mkw\u001b[0m\u001b[1;33m[\u001b[0m\u001b[1;34m'parse_constant'\u001b[0m\u001b[1;33m]\u001b[0m \u001b[1;33m=\u001b[0m \u001b[0mparse_constant\u001b[0m\u001b[1;33m\u001b[0m\u001b[0m\n\u001b[1;32m--> 332\u001b[1;33m     \u001b[1;32mreturn\u001b[0m \u001b[0mcls\u001b[0m\u001b[1;33m(\u001b[0m\u001b[1;33m**\u001b[0m\u001b[0mkw\u001b[0m\u001b[1;33m)\u001b[0m\u001b[1;33m.\u001b[0m\u001b[0mdecode\u001b[0m\u001b[1;33m(\u001b[0m\u001b[0ms\u001b[0m\u001b[1;33m)\u001b[0m\u001b[1;33m\u001b[0m\u001b[0m\n\u001b[0m",
      "\u001b[1;32m/home/aubreymoore/anaconda3/lib/python3.5/json/decoder.py\u001b[0m in \u001b[0;36mdecode\u001b[1;34m(self, s, _w)\u001b[0m\n\u001b[0;32m    337\u001b[0m \u001b[1;33m\u001b[0m\u001b[0m\n\u001b[0;32m    338\u001b[0m         \"\"\"\n\u001b[1;32m--> 339\u001b[1;33m         \u001b[0mobj\u001b[0m\u001b[1;33m,\u001b[0m \u001b[0mend\u001b[0m \u001b[1;33m=\u001b[0m \u001b[0mself\u001b[0m\u001b[1;33m.\u001b[0m\u001b[0mraw_decode\u001b[0m\u001b[1;33m(\u001b[0m\u001b[0ms\u001b[0m\u001b[1;33m,\u001b[0m \u001b[0midx\u001b[0m\u001b[1;33m=\u001b[0m\u001b[0m_w\u001b[0m\u001b[1;33m(\u001b[0m\u001b[0ms\u001b[0m\u001b[1;33m,\u001b[0m \u001b[1;36m0\u001b[0m\u001b[1;33m)\u001b[0m\u001b[1;33m.\u001b[0m\u001b[0mend\u001b[0m\u001b[1;33m(\u001b[0m\u001b[1;33m)\u001b[0m\u001b[1;33m)\u001b[0m\u001b[1;33m\u001b[0m\u001b[0m\n\u001b[0m\u001b[0;32m    340\u001b[0m         \u001b[0mend\u001b[0m \u001b[1;33m=\u001b[0m \u001b[0m_w\u001b[0m\u001b[1;33m(\u001b[0m\u001b[0ms\u001b[0m\u001b[1;33m,\u001b[0m \u001b[0mend\u001b[0m\u001b[1;33m)\u001b[0m\u001b[1;33m.\u001b[0m\u001b[0mend\u001b[0m\u001b[1;33m(\u001b[0m\u001b[1;33m)\u001b[0m\u001b[1;33m\u001b[0m\u001b[0m\n\u001b[0;32m    341\u001b[0m         \u001b[1;32mif\u001b[0m \u001b[0mend\u001b[0m \u001b[1;33m!=\u001b[0m \u001b[0mlen\u001b[0m\u001b[1;33m(\u001b[0m\u001b[0ms\u001b[0m\u001b[1;33m)\u001b[0m\u001b[1;33m:\u001b[0m\u001b[1;33m\u001b[0m\u001b[0m\n",
      "\u001b[1;32m/home/aubreymoore/anaconda3/lib/python3.5/json/decoder.py\u001b[0m in \u001b[0;36mraw_decode\u001b[1;34m(self, s, idx)\u001b[0m\n\u001b[0;32m    355\u001b[0m             \u001b[0mobj\u001b[0m\u001b[1;33m,\u001b[0m \u001b[0mend\u001b[0m \u001b[1;33m=\u001b[0m \u001b[0mself\u001b[0m\u001b[1;33m.\u001b[0m\u001b[0mscan_once\u001b[0m\u001b[1;33m(\u001b[0m\u001b[0ms\u001b[0m\u001b[1;33m,\u001b[0m \u001b[0midx\u001b[0m\u001b[1;33m)\u001b[0m\u001b[1;33m\u001b[0m\u001b[0m\n\u001b[0;32m    356\u001b[0m         \u001b[1;32mexcept\u001b[0m \u001b[0mStopIteration\u001b[0m \u001b[1;32mas\u001b[0m \u001b[0merr\u001b[0m\u001b[1;33m:\u001b[0m\u001b[1;33m\u001b[0m\u001b[0m\n\u001b[1;32m--> 357\u001b[1;33m             \u001b[1;32mraise\u001b[0m \u001b[0mJSONDecodeError\u001b[0m\u001b[1;33m(\u001b[0m\u001b[1;34m\"Expecting value\"\u001b[0m\u001b[1;33m,\u001b[0m \u001b[0ms\u001b[0m\u001b[1;33m,\u001b[0m \u001b[0merr\u001b[0m\u001b[1;33m.\u001b[0m\u001b[0mvalue\u001b[0m\u001b[1;33m)\u001b[0m \u001b[1;32mfrom\u001b[0m \u001b[1;32mNone\u001b[0m\u001b[1;33m\u001b[0m\u001b[0m\n\u001b[0m\u001b[0;32m    358\u001b[0m         \u001b[1;32mreturn\u001b[0m \u001b[0mobj\u001b[0m\u001b[1;33m,\u001b[0m \u001b[0mend\u001b[0m\u001b[1;33m\u001b[0m\u001b[0m\n",
      "\u001b[1;31mJSONDecodeError\u001b[0m: Expecting value: line 1 column 1 (char 0)"
     ]
    }
   ],
   "source": [
    "def _json_object_hook(d): return namedtuple('X', d.keys())(*d.values())\n",
    "def json2obj(data): return json.loads(data, object_hook=_json_object_hook)\n",
    "\n",
    "y = json2obj(str(x.response))"
   ]
  },
  {
   "cell_type": "code",
   "execution_count": 50,
   "metadata": {
    "collapsed": false
   },
   "outputs": [
    {
     "data": {
      "text/plain": [
       "{'confidence': 100, 'matchType': 'NONE', 'synonym': False}"
      ]
     },
     "execution_count": 50,
     "metadata": {},
     "output_type": "execute_result"
    }
   ],
   "source": [
    "x.gbif_json"
   ]
  },
  {
   "cell_type": "code",
   "execution_count": 53,
   "metadata": {
    "collapsed": false
   },
   "outputs": [
    {
     "name": "stdout",
     "output_type": "stream",
     "text": [
      "Collecting pygbif\n",
      "  Downloading pygbif-0.2.0-py2.py3-none-any.whl (55kB)\n",
      "\u001b[K    100% |████████████████████████████████| 61kB 187kB/s \n",
      "\u001b[?25hRequirement already satisfied: requests>2.7 in /home/aubreymoore/anaconda3/lib/python3.5/site-packages (from pygbif)\n",
      "Installing collected packages: pygbif\n",
      "Successfully installed pygbif-0.2.0\n"
     ]
    }
   ],
   "source": [
    "!pip install pygbif"
   ]
  },
  {
   "cell_type": "code",
   "execution_count": 73,
   "metadata": {
    "collapsed": false
   },
   "outputs": [
    {
     "data": {
      "text/plain": [
       "{'count': 4,\n",
       " 'endOfRecords': False,\n",
       " 'facets': [],\n",
       " 'limit': 1,\n",
       " 'offset': 0,\n",
       " 'results': [{'accepted': 'Leptocoris vicinus (Dallas, 1852)',\n",
       "   'acceptedKey': 120976265,\n",
       "   'authorship': 'Usinger, 1946',\n",
       "   'canonicalName': 'Leptocoris carnivorus',\n",
       "   'class': 'Insecta',\n",
       "   'classKey': 123618392,\n",
       "   'constituentKey': '7dc43df3-eacf-416d-b1ff-3ab5f6a0e7f2',\n",
       "   'datasetKey': '7ddf754f-d193-4cc9-b351-99906754a03b',\n",
       "   'descriptions': [],\n",
       "   'family': 'Rhopalidae',\n",
       "   'familyKey': 123735510,\n",
       "   'genus': 'Leptocoris',\n",
       "   'genusKey': 123735838,\n",
       "   'habitats': [],\n",
       "   'higherClassificationMap': {'120976265': 'Leptocoris vicinus',\n",
       "    '123595509': 'Animalia',\n",
       "    '123613962': 'Arthropoda',\n",
       "    '123618392': 'Insecta',\n",
       "    '123686589': 'Hemiptera',\n",
       "    '123735510': 'Rhopalidae',\n",
       "    '123735838': 'Leptocoris'},\n",
       "   'key': 120941685,\n",
       "   'kingdom': 'Animalia',\n",
       "   'kingdomKey': 123595509,\n",
       "   'nameType': 'SCIENTIFIC',\n",
       "   'nomenclaturalStatus': [],\n",
       "   'nubKey': 4784192,\n",
       "   'numDescendants': 0,\n",
       "   'numOccurrences': 0,\n",
       "   'order': 'Hemiptera',\n",
       "   'orderKey': 123686589,\n",
       "   'parent': 'Leptocoris',\n",
       "   'parentKey': 123735838,\n",
       "   'phylum': 'Arthropoda',\n",
       "   'phylumKey': 123613962,\n",
       "   'rank': 'SPECIES',\n",
       "   'scientificName': 'Leptocoris carnivorus Usinger, 1946',\n",
       "   'species': 'Leptocoris vicinus',\n",
       "   'speciesKey': 120976265,\n",
       "   'synonym': True,\n",
       "   'taxonomicStatus': 'SYNONYM',\n",
       "   'threatStatuses': [],\n",
       "   'vernacularNames': []}]}"
      ]
     },
     "execution_count": 73,
     "metadata": {},
     "output_type": "execute_result"
    }
   ],
   "source": [
    "from pygbif import species\n",
    "#species.name_suggest(q='x')\n",
    "species.name_lookup(q='Leptocoris carnivorus', rank='species', limit=1)"
   ]
  },
  {
   "cell_type": "code",
   "execution_count": null,
   "metadata": {
    "collapsed": true
   },
   "outputs": [],
   "source": []
  }
 ],
 "metadata": {
  "kernelspec": {
   "display_name": "Python 3",
   "language": "python",
   "name": "python3"
  },
  "language_info": {
   "codemirror_mode": {
    "name": "ipython",
    "version": 3
   },
   "file_extension": ".py",
   "mimetype": "text/x-python",
   "name": "python",
   "nbconvert_exporter": "python",
   "pygments_lexer": "ipython3",
   "version": "3.5.2"
  }
 },
 "nbformat": 4,
 "nbformat_minor": 0
}
