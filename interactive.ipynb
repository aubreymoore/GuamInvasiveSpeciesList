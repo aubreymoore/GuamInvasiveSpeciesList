{
 "cells": [
  {
   "cell_type": "markdown",
   "metadata": {},
   "source": [
    "Open this notebook with **python manage.py shell_plus --notebook**"
   ]
  },
  {
   "cell_type": "code",
   "execution_count": 16,
   "metadata": {
    "collapsed": false
   },
   "outputs": [],
   "source": [
    "from taxon_names_resolver import Resolver\n",
    "resolver = Resolver(terms=['Pseudococcidae'])\n",
    "#resolver = Resolver(terms=['Coccidohystrix insolita'])\n",
    "#resolver = Resolver(terms=['Apidae'])\n",
    "resolver.main()\n",
    "#print(resolver.__dict__)"
   ]
  },
  {
   "cell_type": "code",
   "execution_count": 21,
   "metadata": {
    "collapsed": false
   },
   "outputs": [
    {
     "name": "stdout",
     "output_type": "stream",
     "text": [
      "['Macca mulatta', 'Gorilla gorilla', 'Chlorotalpa tytonis', 'Bacillus subtilus', 'Pongo pongo', 'Ailuropoda melanoleuca', 'Homo sapiens', 'Arabidopsis thaliana', 'Ailurus fulgens', 'Mus musculus']\n"
     ]
    }
   ],
   "source": [
    "# EXAMPLE NAMES\n",
    "terms = ['Homo sapiens', 'Gorilla gorilla', 'Pongo pongo', 'Macca mulatta',\n",
    "         'Mus musculus', 'Ailuropoda melanoleuca', 'Ailurus fulgens',\n",
    "         'Chlorotalpa tytonis', 'Arabidopsis thaliana', 'Bacillus subtilus']\n",
    "\n",
    "# RESOLVE\n",
    "# pass the terms, the datasource and the logger (optional)\n",
    "resolver = Resolver(terms=terms, datasource=\"NCBI\")\n",
    "resolver.main()  # resolve!\n",
    "idents = resolver.retrieve('query_name')\n",
    "print(idents)"
   ]
  },
  {
   "cell_type": "code",
   "execution_count": 1,
   "metadata": {
    "collapsed": true
   },
   "outputs": [],
   "source": [
    "from polls.models import Question, Choice"
   ]
  },
  {
   "cell_type": "code",
   "execution_count": 2,
   "metadata": {
    "collapsed": false
   },
   "outputs": [
    {
     "data": {
      "text/plain": [
       "<QuerySet [<Question: What do you want?>, <Question: Is this the second question?>]>"
      ]
     },
     "execution_count": 2,
     "metadata": {},
     "output_type": "execute_result"
    }
   ],
   "source": [
    "Question.objects.all()"
   ]
  },
  {
   "cell_type": "code",
   "execution_count": 3,
   "metadata": {
    "collapsed": false
   },
   "outputs": [
    {
     "data": {
      "text/plain": [
       "<QuerySet [<Choice: Not much>, <Choice: a whole bunch>, <Choice: crap>]>"
      ]
     },
     "execution_count": 3,
     "metadata": {},
     "output_type": "execute_result"
    }
   ],
   "source": [
    "current_year = timezone.now().year\n",
    "Choice.objects.filter(question__pub_date__year=current_year)"
   ]
  },
  {
   "cell_type": "code",
   "execution_count": 4,
   "metadata": {
    "collapsed": true
   },
   "outputs": [],
   "source": [
    "from taxonomy import views"
   ]
  },
  {
   "cell_type": "code",
   "execution_count": 7,
   "metadata": {
    "collapsed": false
   },
   "outputs": [
    {
     "ename": "AttributeError",
     "evalue": "'str' object has no attribute 'POST'",
     "output_type": "error",
     "traceback": [
      "\u001b[1;31m---------------------------------------------------------------------------\u001b[0m",
      "\u001b[1;31mAttributeError\u001b[0m                            Traceback (most recent call last)",
      "\u001b[1;32m<ipython-input-7-daea036a6aea>\u001b[0m in \u001b[0;36m<module>\u001b[1;34m()\u001b[0m\n\u001b[1;32m----> 1\u001b[1;33m \u001b[0mviews\u001b[0m\u001b[1;33m.\u001b[0m\u001b[0madd_taxon2\u001b[0m\u001b[1;33m(\u001b[0m\u001b[1;34m'Apidae'\u001b[0m\u001b[1;33m)\u001b[0m\u001b[1;33m\u001b[0m\u001b[0m\n\u001b[0m",
      "\u001b[1;32m/home/aubreymoore/django_tutorial/mysite/taxonomy/views.py\u001b[0m in \u001b[0;36madd_taxon2\u001b[1;34m(request)\u001b[0m\n\u001b[0;32m     38\u001b[0m \u001b[1;33m\u001b[0m\u001b[0m\n\u001b[0;32m     39\u001b[0m \u001b[1;32mdef\u001b[0m \u001b[0madd_taxon2\u001b[0m\u001b[1;33m(\u001b[0m\u001b[0mrequest\u001b[0m\u001b[1;33m)\u001b[0m\u001b[1;33m:\u001b[0m\u001b[1;33m\u001b[0m\u001b[0m\n\u001b[1;32m---> 40\u001b[1;33m     \u001b[0mtaxon\u001b[0m \u001b[1;33m=\u001b[0m \u001b[0mrequest\u001b[0m\u001b[1;33m.\u001b[0m\u001b[0mPOST\u001b[0m\u001b[1;33m[\u001b[0m\u001b[1;34m'taxon'\u001b[0m\u001b[1;33m]\u001b[0m\u001b[1;33m\u001b[0m\u001b[0m\n\u001b[0m\u001b[0;32m     41\u001b[0m \u001b[1;33m\u001b[0m\u001b[0m\n\u001b[0;32m     42\u001b[0m     \u001b[1;32mtry\u001b[0m\u001b[1;33m:\u001b[0m\u001b[1;33m\u001b[0m\u001b[0m\n",
      "\u001b[1;31mAttributeError\u001b[0m: 'str' object has no attribute 'POST'"
     ]
    }
   ],
   "source": [
    "views.add_taxon2('Apidae')"
   ]
  },
  {
   "cell_type": "code",
   "execution_count": 2,
   "metadata": {
    "collapsed": false
   },
   "outputs": [
    {
     "data": {
      "text/plain": [
       "(18, {'taxonomy.Taxon': 18})"
      ]
     },
     "execution_count": 2,
     "metadata": {},
     "output_type": "execute_result"
    }
   ],
   "source": [
    "# empty Taxon table\n",
    "from taxonomy.models import Taxon\n",
    "Taxon.objects.all().delete()"
   ]
  },
  {
   "cell_type": "code",
   "execution_count": 4,
   "metadata": {
    "collapsed": false
   },
   "outputs": [
    {
     "name": "stdout",
     "output_type": "stream",
     "text": [
      "{'primary_datasource': 'NCBI', 'terms': ['Protaetia pryeri'], '_res': <taxon_names_resolver.gnr_tools.GnrResolver object at 0x7f6d46319828>, 'outdir': '/home/aubreymoore/django_tutorial/mysite/resolved_names', 'key_terms': ['query_name', 'classification_path', 'data_source_title', 'match_type', 'score', 'classification_path_ranks', 'name_string', 'canonical_form', 'classification_path_ids', 'prescore', 'data_source_id', 'taxon_id', 'gni_uuid'], 'directory': '/home/aubreymoore/django_tutorial/mysite', 'logger': <logging.RootLogger object at 0x7f6d663bb2e8>, 'lowrank': False, '_store': {'Protaetia pryeri': [{'prescore': '1|0|0', 'classification_path_ranks': '|superkingdom||kingdom||||||phylum|||superclass|class|||subclass|infraclass|order|suborder|infraorder|superfamily|family|subfamily|genus', 'name_string': 'Protaetia', 'match_value': 'Could only match genus', 'taxon_id': '348687', 'classification_path_ids': '131567|2759|33154|33208|6072|33213|33317|1206794|88770|6656|197563|197562|6960|50557|85512|7496|33340|33392|7041|41084|41086|75546|7055|7056|348687', 'classification_path': '|Eukaryota|Opisthokonta|Metazoa|Eumetazoa|Bilateria|Protostomia|Ecdysozoa|Panarthropoda|Arthropoda|Mandibulata|Pancrustacea|Hexapoda|Insecta|Dicondylia|Pterygota|Neoptera|Endopterygota|Coleoptera|Polyphaga|Scarabaeiformia|Scarabaeoidea|Scarabaeidae|Cetoniinae|Protaetia', 'gni_uuid': 'c3fed4ef-03df-56c0-83ee-a842dcd21204', 'data_source_id': 4, 'match_type': 6, 'canonical_form': 'Protaetia', 'imported_at': '2015-09-09T13:36:22Z', 'score': 0.75, 'data_source_title': 'NCBI', 'edit_distance': 0}]}}\n",
      "['Eukaryota', 'Opisthokonta', 'Metazoa', 'Eumetazoa', 'Bilateria', 'Protostomia', 'Ecdysozoa', 'Panarthropoda', 'Arthropoda', 'Mandibulata', 'Pancrustacea', 'Hexapoda', 'Insecta', 'Dicondylia', 'Pterygota', 'Neoptera', 'Endopterygota', 'Coleoptera', 'Polyphaga', 'Scarabaeiformia', 'Scarabaeoidea', 'Scarabaeidae', 'Cetoniinae', 'Protaetia']\n",
      "['superkingdom', '', 'kingdom', '', '', '', '', '', 'phylum', '', '', 'superclass', 'class', '', '', 'subclass', 'infraclass', 'order', 'suborder', 'infraorder', 'superfamily', 'family', 'subfamily', 'genus']\n",
      "Eukaryota added to local database.\n",
      "Metazoa added to local database.\n",
      "Arthropoda added to local database.\n",
      "Hexapoda added to local database.\n",
      "Insecta added to local database.\n",
      "Neoptera added to local database.\n",
      "Endopterygota added to local database.\n",
      "Coleoptera added to local database.\n",
      "Polyphaga added to local database.\n",
      "Scarabaeiformia added to local database.\n",
      "Scarabaeoidea added to local database.\n",
      "Scarabaeidae added to local database.\n",
      "Cetoniinae added to local database.\n",
      "Protaetia added to local database.\n"
     ]
    }
   ],
   "source": [
    "from taxonomy import views\n",
    "views.add_taxon2('Protaetia pryeri')"
   ]
  },
  {
   "cell_type": "code",
   "execution_count": 8,
   "metadata": {
    "collapsed": false
   },
   "outputs": [
    {
     "name": "stdout",
     "output_type": "stream",
     "text": [
      "{'primary_datasource': 'NCBI', 'terms': ['Protaetia fusca'], '_res': <taxon_names_resolver.gnr_tools.GnrResolver object at 0x7f6d45a57240>, 'outdir': '/home/aubreymoore/django_tutorial/mysite/resolved_names', 'key_terms': ['query_name', 'classification_path', 'data_source_title', 'match_type', 'score', 'classification_path_ranks', 'name_string', 'canonical_form', 'classification_path_ids', 'prescore', 'data_source_id', 'taxon_id', 'gni_uuid'], 'directory': '/home/aubreymoore/django_tutorial/mysite', 'logger': <logging.RootLogger object at 0x7f6d663bb2e8>, 'lowrank': False, '_store': {'Protaetia fusca': [{'prescore': '3|0|0', 'classification_path_ranks': '|superkingdom||kingdom||||||phylum|||superclass|class|||subclass|infraclass|order|suborder|infraorder|superfamily|family|subfamily|genus|species', 'name_string': 'Protaetia fusca', 'match_value': 'Exact string match', 'taxon_id': '1207083', 'classification_path_ids': '131567|2759|33154|33208|6072|33213|33317|1206794|88770|6656|197563|197562|6960|50557|85512|7496|33340|33392|7041|41084|41086|75546|7055|7056|348687|1207083', 'classification_path': '|Eukaryota|Opisthokonta|Metazoa|Eumetazoa|Bilateria|Protostomia|Ecdysozoa|Panarthropoda|Arthropoda|Mandibulata|Pancrustacea|Hexapoda|Insecta|Dicondylia|Pterygota|Neoptera|Endopterygota|Coleoptera|Polyphaga|Scarabaeiformia|Scarabaeoidea|Scarabaeidae|Cetoniinae|Protaetia|Protaetia fusca', 'gni_uuid': '457cbd04-0c41-5f27-9e8c-d8c8068918fd', 'data_source_id': 4, 'match_type': 1, 'canonical_form': 'Protaetia fusca', 'imported_at': '2015-09-09T14:06:14Z', 'score': 0.988, 'data_source_title': 'NCBI', 'edit_distance': 0}]}}\n",
      "['Eukaryota', 'Opisthokonta', 'Metazoa', 'Eumetazoa', 'Bilateria', 'Protostomia', 'Ecdysozoa', 'Panarthropoda', 'Arthropoda', 'Mandibulata', 'Pancrustacea', 'Hexapoda', 'Insecta', 'Dicondylia', 'Pterygota', 'Neoptera', 'Endopterygota', 'Coleoptera', 'Polyphaga', 'Scarabaeiformia', 'Scarabaeoidea', 'Scarabaeidae', 'Cetoniinae', 'Protaetia', 'Protaetia fusca']\n",
      "['superkingdom', '', 'kingdom', '', '', '', '', '', 'phylum', '', '', 'superclass', 'class', '', '', 'subclass', 'infraclass', 'order', 'suborder', 'infraorder', 'superfamily', 'family', 'subfamily', 'genus', 'species']\n",
      "Eukaryota not added to local database; already there.\n",
      "Metazoa not added to local database; already there.\n",
      "Arthropoda not added to local database; already there.\n",
      "Hexapoda not added to local database; already there.\n",
      "Insecta not added to local database; already there.\n",
      "Neoptera not added to local database; already there.\n",
      "Endopterygota not added to local database; already there.\n",
      "Coleoptera not added to local database; already there.\n",
      "Polyphaga not added to local database; already there.\n",
      "Scarabaeiformia not added to local database; already there.\n",
      "Scarabaeoidea not added to local database; already there.\n",
      "Scarabaeidae not added to local database; already there.\n",
      "Cetoniinae not added to local database; already there.\n",
      "Protaetia not added to local database; already there.\n",
      "Protaetia fusca added to local database.\n"
     ]
    }
   ],
   "source": [
    "views.add_taxon2('Protaetia fusca')"
   ]
  },
  {
   "cell_type": "code",
   "execution_count": 1,
   "metadata": {
    "collapsed": true
   },
   "outputs": [],
   "source": [
    "from taxonomy.models import Taxon"
   ]
  },
  {
   "cell_type": "code",
   "execution_count": 12,
   "metadata": {
    "collapsed": false
   },
   "outputs": [
    {
     "data": {
      "text/plain": [
       "<QuerySet [<Taxon: Lepidoptera>, <Taxon: Glossata>, <Taxon: Neolepidoptera>, <Taxon: Heteroneura>, <Taxon: Noctuoidea>, <Taxon: Erebidae>, <Taxon: Arctiinae>, <Taxon: Arctiini>, <Taxon: Olepa>, <Taxon: Olepa ricini>, <Taxon: Noctuidae>, <Taxon: Catocalinae>, <Taxon: Pericyma>, <Taxon: Pericyma cruegeri>, <Taxon: Pyraloidea>, <Taxon: Crambidae>, <Taxon: Spilomelinae>, <Taxon: Cydalima>, <Taxon: Cydalima laticostalis>]>"
      ]
     },
     "execution_count": 12,
     "metadata": {},
     "output_type": "execute_result"
    }
   ],
   "source": [
    "node = Taxon.objects.get(name='Lepidoptera')\n",
    "node.get_descendants(include_self=True)"
   ]
  },
  {
   "cell_type": "code",
   "execution_count": 7,
   "metadata": {
    "collapsed": false
   },
   "outputs": [
    {
     "data": {
      "text/plain": [
       "<QuerySet [<Taxon: Neoptera>, <Taxon: Endopterygota>, <Taxon: Amphiesmenoptera>, <Taxon: Lepidoptera>, <Taxon: Glossata>, <Taxon: Neolepidoptera>, <Taxon: Heteroneura>, <Taxon: Noctuoidea>, <Taxon: Erebidae>, <Taxon: Arctiinae>, <Taxon: Arctiini>, <Taxon: Olepa>, <Taxon: Olepa ricini>, <Taxon: Noctuidae>, <Taxon: Catocalinae>, <Taxon: Pericyma>, <Taxon: Pericyma cruegeri>, <Taxon: Pyraloidea>, <Taxon: Crambidae>, <Taxon: Spilomelinae>, '...(remaining elements truncated)...']>"
      ]
     },
     "execution_count": 7,
     "metadata": {},
     "output_type": "execute_result"
    }
   ],
   "source": [
    "q.get_descendants()"
   ]
  },
  {
   "cell_type": "code",
   "execution_count": null,
   "metadata": {
    "collapsed": true
   },
   "outputs": [],
   "source": []
  }
 ],
 "metadata": {
  "kernelspec": {
   "display_name": "Django Shell-Plus",
   "language": "python",
   "name": "django_extensions"
  },
  "language_info": {
   "codemirror_mode": {
    "name": "ipython",
    "version": 3
   },
   "file_extension": ".py",
   "mimetype": "text/x-python",
   "name": "python",
   "nbconvert_exporter": "python",
   "pygments_lexer": "ipython3",
   "version": "3.5.2"
  }
 },
 "nbformat": 4,
 "nbformat_minor": 0
}
