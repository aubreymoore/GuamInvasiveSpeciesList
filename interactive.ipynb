{
 "cells": [
  {
   "cell_type": "markdown",
   "metadata": {},
   "source": [
    "Open this notebook with **python manage.py shell_plus --notebook**"
   ]
  },
  {
   "cell_type": "code",
   "execution_count": 1,
   "metadata": {
    "collapsed": true
   },
   "outputs": [],
   "source": [
    "from polls.models import Question, Choice"
   ]
  },
  {
   "cell_type": "code",
   "execution_count": 2,
   "metadata": {
    "collapsed": false
   },
   "outputs": [
    {
     "data": {
      "text/plain": [
       "<QuerySet [<Question: What do you want?>, <Question: Is this the second question?>]>"
      ]
     },
     "execution_count": 2,
     "metadata": {},
     "output_type": "execute_result"
    }
   ],
   "source": [
    "Question.objects.all()"
   ]
  },
  {
   "cell_type": "code",
   "execution_count": 3,
   "metadata": {
    "collapsed": false
   },
   "outputs": [
    {
     "data": {
      "text/plain": [
       "<QuerySet [<Choice: Not much>, <Choice: a whole bunch>, <Choice: crap>]>"
      ]
     },
     "execution_count": 3,
     "metadata": {},
     "output_type": "execute_result"
    }
   ],
   "source": [
    "current_year = timezone.now().year\n",
    "Choice.objects.filter(question__pub_date__year=current_year)"
   ]
  },
  {
   "cell_type": "code",
   "execution_count": 4,
   "metadata": {
    "collapsed": true
   },
   "outputs": [],
   "source": [
    "from taxonomy import views"
   ]
  },
  {
   "cell_type": "code",
   "execution_count": 7,
   "metadata": {
    "collapsed": false
   },
   "outputs": [
    {
     "name": "stdout",
     "output_type": "stream",
     "text": [
      "{'logger': <logging.RootLogger object at 0x7f6f27637438>, '_store': {'Protaetia pryeri': [{'taxon_id': '348687', 'score': 0.75, 'prescore': '1|0|0', 'match_value': 'Could only match genus', 'data_source_id': 4, 'gni_uuid': 'c3fed4ef-03df-56c0-83ee-a842dcd21204', 'data_source_title': 'NCBI', 'classification_path_ids': '131567|2759|33154|33208|6072|33213|33317|1206794|88770|6656|197563|197562|6960|50557|85512|7496|33340|33392|7041|41084|41086|75546|7055|7056|348687', 'classification_path_ranks': '|superkingdom||kingdom||||||phylum|||superclass|class|||subclass|infraclass|order|suborder|infraorder|superfamily|family|subfamily|genus', 'name_string': 'Protaetia', 'edit_distance': 0, 'match_type': 6, 'classification_path': '|Eukaryota|Opisthokonta|Metazoa|Eumetazoa|Bilateria|Protostomia|Ecdysozoa|Panarthropoda|Arthropoda|Mandibulata|Pancrustacea|Hexapoda|Insecta|Dicondylia|Pterygota|Neoptera|Endopterygota|Coleoptera|Polyphaga|Scarabaeiformia|Scarabaeoidea|Scarabaeidae|Cetoniinae|Protaetia', 'imported_at': '2015-09-09T13:36:22Z', 'canonical_form': 'Protaetia'}]}, '_res': <taxon_names_resolver.gnr_tools.GnrResolver object at 0x7f6f075e24a8>, 'outdir': '/home/aubreymoore/django_tutorial/mysite/resolved_names', 'lowrank': False, 'terms': ['Protaetia pryeri'], 'primary_datasource': 'NCBI', 'directory': '/home/aubreymoore/django_tutorial/mysite', 'key_terms': ['query_name', 'classification_path', 'data_source_title', 'match_type', 'score', 'classification_path_ranks', 'name_string', 'canonical_form', 'classification_path_ids', 'prescore', 'data_source_id', 'taxon_id', 'gni_uuid']}\n",
      "['Eukaryota', 'Opisthokonta', 'Metazoa', 'Eumetazoa', 'Bilateria', 'Protostomia', 'Ecdysozoa', 'Panarthropoda', 'Arthropoda', 'Mandibulata', 'Pancrustacea', 'Hexapoda', 'Insecta', 'Dicondylia', 'Pterygota', 'Neoptera', 'Endopterygota', 'Coleoptera', 'Polyphaga', 'Scarabaeiformia', 'Scarabaeoidea', 'Scarabaeidae', 'Cetoniinae', 'Protaetia']\n",
      "['superkingdom', '', 'kingdom', '', '', '', '', '', 'phylum', '', '', 'superclass', 'class', '', '', 'subclass', 'infraclass', 'order', 'suborder', 'infraorder', 'superfamily', 'family', 'subfamily', 'genus']\n",
      "Eukaryota not added to local database; already there.\n",
      "Metazoa not added to local database; already there.\n",
      "Arthropoda not added to local database; already there.\n",
      "Hexapoda not added to local database; already there.\n",
      "Insecta not added to local database; already there.\n",
      "Neoptera not added to local database; already there.\n",
      "Endopterygota not added to local database; already there.\n",
      "Coleoptera not added to local database; already there.\n",
      "Polyphaga not added to local database; already there.\n",
      "Scarabaeiformia not added to local database; already there.\n",
      "Scarabaeoidea not added to local database; already there.\n",
      "Scarabaeidae not added to local database; already there.\n",
      "Cetoniinae not added to local database; already there.\n",
      "Protaetia not added to local database; already there.\n"
     ]
    }
   ],
   "source": [
    "views.add_taxon2('Protaetia pryeri')"
   ]
  },
  {
   "cell_type": "code",
   "execution_count": 2,
   "metadata": {
    "collapsed": false
   },
   "outputs": [
    {
     "data": {
      "text/plain": [
       "(18, {'taxonomy.Taxon': 18})"
      ]
     },
     "execution_count": 2,
     "metadata": {},
     "output_type": "execute_result"
    }
   ],
   "source": [
    "# empty Taxon table\n",
    "from taxonomy.models import Taxon\n",
    "Taxon.objects.all().delete()"
   ]
  },
  {
   "cell_type": "code",
   "execution_count": 4,
   "metadata": {
    "collapsed": false
   },
   "outputs": [
    {
     "name": "stdout",
     "output_type": "stream",
     "text": [
      "{'primary_datasource': 'NCBI', 'terms': ['Protaetia pryeri'], '_res': <taxon_names_resolver.gnr_tools.GnrResolver object at 0x7f6d46319828>, 'outdir': '/home/aubreymoore/django_tutorial/mysite/resolved_names', 'key_terms': ['query_name', 'classification_path', 'data_source_title', 'match_type', 'score', 'classification_path_ranks', 'name_string', 'canonical_form', 'classification_path_ids', 'prescore', 'data_source_id', 'taxon_id', 'gni_uuid'], 'directory': '/home/aubreymoore/django_tutorial/mysite', 'logger': <logging.RootLogger object at 0x7f6d663bb2e8>, 'lowrank': False, '_store': {'Protaetia pryeri': [{'prescore': '1|0|0', 'classification_path_ranks': '|superkingdom||kingdom||||||phylum|||superclass|class|||subclass|infraclass|order|suborder|infraorder|superfamily|family|subfamily|genus', 'name_string': 'Protaetia', 'match_value': 'Could only match genus', 'taxon_id': '348687', 'classification_path_ids': '131567|2759|33154|33208|6072|33213|33317|1206794|88770|6656|197563|197562|6960|50557|85512|7496|33340|33392|7041|41084|41086|75546|7055|7056|348687', 'classification_path': '|Eukaryota|Opisthokonta|Metazoa|Eumetazoa|Bilateria|Protostomia|Ecdysozoa|Panarthropoda|Arthropoda|Mandibulata|Pancrustacea|Hexapoda|Insecta|Dicondylia|Pterygota|Neoptera|Endopterygota|Coleoptera|Polyphaga|Scarabaeiformia|Scarabaeoidea|Scarabaeidae|Cetoniinae|Protaetia', 'gni_uuid': 'c3fed4ef-03df-56c0-83ee-a842dcd21204', 'data_source_id': 4, 'match_type': 6, 'canonical_form': 'Protaetia', 'imported_at': '2015-09-09T13:36:22Z', 'score': 0.75, 'data_source_title': 'NCBI', 'edit_distance': 0}]}}\n",
      "['Eukaryota', 'Opisthokonta', 'Metazoa', 'Eumetazoa', 'Bilateria', 'Protostomia', 'Ecdysozoa', 'Panarthropoda', 'Arthropoda', 'Mandibulata', 'Pancrustacea', 'Hexapoda', 'Insecta', 'Dicondylia', 'Pterygota', 'Neoptera', 'Endopterygota', 'Coleoptera', 'Polyphaga', 'Scarabaeiformia', 'Scarabaeoidea', 'Scarabaeidae', 'Cetoniinae', 'Protaetia']\n",
      "['superkingdom', '', 'kingdom', '', '', '', '', '', 'phylum', '', '', 'superclass', 'class', '', '', 'subclass', 'infraclass', 'order', 'suborder', 'infraorder', 'superfamily', 'family', 'subfamily', 'genus']\n",
      "Eukaryota added to local database.\n",
      "Metazoa added to local database.\n",
      "Arthropoda added to local database.\n",
      "Hexapoda added to local database.\n",
      "Insecta added to local database.\n",
      "Neoptera added to local database.\n",
      "Endopterygota added to local database.\n",
      "Coleoptera added to local database.\n",
      "Polyphaga added to local database.\n",
      "Scarabaeiformia added to local database.\n",
      "Scarabaeoidea added to local database.\n",
      "Scarabaeidae added to local database.\n",
      "Cetoniinae added to local database.\n",
      "Protaetia added to local database.\n"
     ]
    }
   ],
   "source": [
    "from taxonomy import views\n",
    "views.add_taxon2('Protaetia pryeri')"
   ]
  },
  {
   "cell_type": "code",
   "execution_count": 8,
   "metadata": {
    "collapsed": false
   },
   "outputs": [
    {
     "name": "stdout",
     "output_type": "stream",
     "text": [
      "{'primary_datasource': 'NCBI', 'terms': ['Protaetia fusca'], '_res': <taxon_names_resolver.gnr_tools.GnrResolver object at 0x7f6d45a57240>, 'outdir': '/home/aubreymoore/django_tutorial/mysite/resolved_names', 'key_terms': ['query_name', 'classification_path', 'data_source_title', 'match_type', 'score', 'classification_path_ranks', 'name_string', 'canonical_form', 'classification_path_ids', 'prescore', 'data_source_id', 'taxon_id', 'gni_uuid'], 'directory': '/home/aubreymoore/django_tutorial/mysite', 'logger': <logging.RootLogger object at 0x7f6d663bb2e8>, 'lowrank': False, '_store': {'Protaetia fusca': [{'prescore': '3|0|0', 'classification_path_ranks': '|superkingdom||kingdom||||||phylum|||superclass|class|||subclass|infraclass|order|suborder|infraorder|superfamily|family|subfamily|genus|species', 'name_string': 'Protaetia fusca', 'match_value': 'Exact string match', 'taxon_id': '1207083', 'classification_path_ids': '131567|2759|33154|33208|6072|33213|33317|1206794|88770|6656|197563|197562|6960|50557|85512|7496|33340|33392|7041|41084|41086|75546|7055|7056|348687|1207083', 'classification_path': '|Eukaryota|Opisthokonta|Metazoa|Eumetazoa|Bilateria|Protostomia|Ecdysozoa|Panarthropoda|Arthropoda|Mandibulata|Pancrustacea|Hexapoda|Insecta|Dicondylia|Pterygota|Neoptera|Endopterygota|Coleoptera|Polyphaga|Scarabaeiformia|Scarabaeoidea|Scarabaeidae|Cetoniinae|Protaetia|Protaetia fusca', 'gni_uuid': '457cbd04-0c41-5f27-9e8c-d8c8068918fd', 'data_source_id': 4, 'match_type': 1, 'canonical_form': 'Protaetia fusca', 'imported_at': '2015-09-09T14:06:14Z', 'score': 0.988, 'data_source_title': 'NCBI', 'edit_distance': 0}]}}\n",
      "['Eukaryota', 'Opisthokonta', 'Metazoa', 'Eumetazoa', 'Bilateria', 'Protostomia', 'Ecdysozoa', 'Panarthropoda', 'Arthropoda', 'Mandibulata', 'Pancrustacea', 'Hexapoda', 'Insecta', 'Dicondylia', 'Pterygota', 'Neoptera', 'Endopterygota', 'Coleoptera', 'Polyphaga', 'Scarabaeiformia', 'Scarabaeoidea', 'Scarabaeidae', 'Cetoniinae', 'Protaetia', 'Protaetia fusca']\n",
      "['superkingdom', '', 'kingdom', '', '', '', '', '', 'phylum', '', '', 'superclass', 'class', '', '', 'subclass', 'infraclass', 'order', 'suborder', 'infraorder', 'superfamily', 'family', 'subfamily', 'genus', 'species']\n",
      "Eukaryota not added to local database; already there.\n",
      "Metazoa not added to local database; already there.\n",
      "Arthropoda not added to local database; already there.\n",
      "Hexapoda not added to local database; already there.\n",
      "Insecta not added to local database; already there.\n",
      "Neoptera not added to local database; already there.\n",
      "Endopterygota not added to local database; already there.\n",
      "Coleoptera not added to local database; already there.\n",
      "Polyphaga not added to local database; already there.\n",
      "Scarabaeiformia not added to local database; already there.\n",
      "Scarabaeoidea not added to local database; already there.\n",
      "Scarabaeidae not added to local database; already there.\n",
      "Cetoniinae not added to local database; already there.\n",
      "Protaetia not added to local database; already there.\n",
      "Protaetia fusca added to local database.\n"
     ]
    }
   ],
   "source": [
    "views.add_taxon2('Protaetia fusca')"
   ]
  },
  {
   "cell_type": "code",
   "execution_count": null,
   "metadata": {
    "collapsed": true
   },
   "outputs": [],
   "source": []
  }
 ],
 "metadata": {
  "kernelspec": {
   "display_name": "Django Shell-Plus",
   "language": "python",
   "name": "django_extensions"
  },
  "language_info": {
   "codemirror_mode": {
    "name": "ipython",
    "version": 3
   },
   "file_extension": ".py",
   "mimetype": "text/x-python",
   "name": "python",
   "nbconvert_exporter": "python",
   "pygments_lexer": "ipython3",
   "version": "3.5.2"
  }
 },
 "nbformat": 4,
 "nbformat_minor": 0
}
