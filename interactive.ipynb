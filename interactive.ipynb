{
 "cells": [
  {
   "cell_type": "code",
   "execution_count": 10,
   "metadata": {
    "collapsed": true
   },
   "outputs": [],
   "source": [
    "import requests"
   ]
  },
  {
   "cell_type": "code",
   "execution_count": 22,
   "metadata": {
    "collapsed": true
   },
   "outputs": [],
   "source": [
    "def match_name(name):\n",
    "    '''\n",
    "    Matches scientific names using the GBIF Species API.\n",
    "    '''\n",
    "    url = 'http://api.gbif.org/v1/species/match' \n",
    "    params = {'name': name, 'verbose': 'true'}\n",
    "    r = requests.get(url, params=params)\n",
    "    return(r.json())"
   ]
  },
  {
   "cell_type": "code",
   "execution_count": 44,
   "metadata": {
    "collapsed": false
   },
   "outputs": [
    {
     "name": "stdout",
     "output_type": "stream",
     "text": [
      "note: Multiple equal matches for Oryctes\n",
      "matchType: NONE\n"
     ]
    },
    {
     "data": {
      "text/plain": [
       "{'alternatives': [{'canonicalName': 'Oryctes',\n",
       "   'class': 'Insecta',\n",
       "   'classKey': 216,\n",
       "   'confidence': 99,\n",
       "   'family': 'Dynastidae',\n",
       "   'familyKey': 4205,\n",
       "   'genus': 'Oryctes',\n",
       "   'genusKey': 1075895,\n",
       "   'kingdom': 'Animalia',\n",
       "   'kingdomKey': 1,\n",
       "   'matchType': 'EXACT',\n",
       "   'note': 'Similarity: name=100; authorship=0; classification=-2; rank=0; status=1',\n",
       "   'order': 'Coleoptera',\n",
       "   'orderKey': 1470,\n",
       "   'phylum': 'Arthropoda',\n",
       "   'phylumKey': 54,\n",
       "   'rank': 'GENUS',\n",
       "   'scientificName': 'Oryctes Illiger, 1798',\n",
       "   'status': 'ACCEPTED',\n",
       "   'synonym': False,\n",
       "   'usageKey': 1075895},\n",
       "  {'canonicalName': 'Oryctes',\n",
       "   'class': 'Magnoliopsida',\n",
       "   'classKey': 220,\n",
       "   'confidence': 99,\n",
       "   'family': 'Solanaceae',\n",
       "   'familyKey': 7717,\n",
       "   'genus': 'Oryctes',\n",
       "   'genusKey': 2932945,\n",
       "   'kingdom': 'Plantae',\n",
       "   'kingdomKey': 6,\n",
       "   'matchType': 'EXACT',\n",
       "   'note': 'Similarity: name=100; authorship=0; classification=-2; rank=0; status=1',\n",
       "   'order': 'Solanales',\n",
       "   'orderKey': 1176,\n",
       "   'phylum': 'Tracheophyta',\n",
       "   'phylumKey': 7707728,\n",
       "   'rank': 'GENUS',\n",
       "   'scientificName': 'Oryctes S. Watson',\n",
       "   'status': 'ACCEPTED',\n",
       "   'synonym': False,\n",
       "   'usageKey': 2932945},\n",
       "  {'canonicalName': 'Oryctes',\n",
       "   'class': 'Insecta',\n",
       "   'classKey': 216,\n",
       "   'confidence': 93,\n",
       "   'family': 'Scarabaeidae',\n",
       "   'familyKey': 5840,\n",
       "   'genus': 'Oryctes',\n",
       "   'genusKey': 8440728,\n",
       "   'kingdom': 'Animalia',\n",
       "   'kingdomKey': 1,\n",
       "   'matchType': 'EXACT',\n",
       "   'note': 'Similarity: name=100; authorship=0; classification=-2; rank=0; status=-5',\n",
       "   'order': 'Coleoptera',\n",
       "   'orderKey': 1470,\n",
       "   'phylum': 'Arthropoda',\n",
       "   'phylumKey': 54,\n",
       "   'rank': 'GENUS',\n",
       "   'scientificName': 'Oryctes Fabricius',\n",
       "   'status': 'DOUBTFUL',\n",
       "   'synonym': False,\n",
       "   'usageKey': 8440728},\n",
       "  {'canonicalName': 'Oryctus',\n",
       "   'class': 'Insecta',\n",
       "   'classKey': 216,\n",
       "   'confidence': 68,\n",
       "   'family': 'Scarabaeidae',\n",
       "   'familyKey': 5840,\n",
       "   'genus': 'Oryctus',\n",
       "   'genusKey': 1073325,\n",
       "   'kingdom': 'Animalia',\n",
       "   'kingdomKey': 1,\n",
       "   'matchType': 'FUZZY',\n",
       "   'note': 'Similarity: name=75; authorship=0; classification=-2; rank=0; status=-5',\n",
       "   'order': 'Coleoptera',\n",
       "   'orderKey': 1470,\n",
       "   'phylum': 'Arthropoda',\n",
       "   'phylumKey': 54,\n",
       "   'rank': 'GENUS',\n",
       "   'scientificName': 'Oryctus',\n",
       "   'status': 'DOUBTFUL',\n",
       "   'synonym': False,\n",
       "   'usageKey': 1073325},\n",
       "  {'canonicalName': 'Orytes',\n",
       "   'class': 'Aves',\n",
       "   'classKey': 212,\n",
       "   'confidence': 68,\n",
       "   'family': 'Paridae',\n",
       "   'familyKey': 9327,\n",
       "   'genus': 'Orytes',\n",
       "   'genusKey': 4845969,\n",
       "   'kingdom': 'Animalia',\n",
       "   'kingdomKey': 1,\n",
       "   'matchType': 'FUZZY',\n",
       "   'note': 'Similarity: name=75; authorship=0; classification=-2; rank=0; status=-5',\n",
       "   'order': 'Passeriformes',\n",
       "   'orderKey': 729,\n",
       "   'phylum': 'Chordata',\n",
       "   'phylumKey': 44,\n",
       "   'rank': 'GENUS',\n",
       "   'scientificName': 'Orytes Acloque, 1900',\n",
       "   'status': 'DOUBTFUL',\n",
       "   'synonym': False,\n",
       "   'usageKey': 4845969}],\n",
       " 'confidence': 100,\n",
       " 'matchType': 'NONE',\n",
       " 'note': 'Multiple equal matches for Oryctes',\n",
       " 'synonym': False}"
      ]
     },
     "execution_count": 44,
     "metadata": {},
     "output_type": "execute_result"
    }
   ],
   "source": [
    "res = match_name('Oryctes')\n",
    "if 'note' in res:\n",
    "    print('note: {}'.format(res['note']))\n",
    "if 'matchType' in res:\n",
    "    print('matchType: {}'.format(res['matchType'])) \n",
    "if 'status' in res:\n",
    "    print('status: {}'.format(res['status']))\n",
    "res"
   ]
  },
  {
   "cell_type": "code",
   "execution_count": null,
   "metadata": {
    "collapsed": true
   },
   "outputs": [],
   "source": []
  },
  {
   "cell_type": "code",
   "execution_count": 19,
   "metadata": {
    "collapsed": false
   },
   "outputs": [
    {
     "ename": "NameError",
     "evalue": "name 'res' is not defined",
     "output_type": "error",
     "traceback": [
      "\u001b[1;31m---------------------------------------------------------------------------\u001b[0m",
      "\u001b[1;31mNameError\u001b[0m                                 Traceback (most recent call last)",
      "\u001b[1;32m<ipython-input-19-41a0db25bac4>\u001b[0m in \u001b[0;36m<module>\u001b[1;34m()\u001b[0m\n\u001b[1;32m----> 1\u001b[1;33m \u001b[0mres\u001b[0m\u001b[1;33m\u001b[0m\u001b[0m\n\u001b[0m",
      "\u001b[1;31mNameError\u001b[0m: name 'res' is not defined"
     ]
    }
   ],
   "source": [
    "res"
   ]
  },
  {
   "cell_type": "markdown",
   "metadata": {},
   "source": [
    "Open this notebook with **python manage.py shell_plus --notebook**"
   ]
  },
  {
   "cell_type": "code",
   "execution_count": 1,
   "metadata": {
    "collapsed": false
   },
   "outputs": [],
   "source": [
    "from taxonomy.gbif_name_match import Taxon_resolver"
   ]
  },
  {
   "cell_type": "code",
   "execution_count": 2,
   "metadata": {
    "collapsed": false
   },
   "outputs": [
    {
     "name": "stdout",
     "output_type": "stream",
     "text": [
      "http://api.gbif.org/v1/species/match?verbose=false&name=Pseudococcidae\n"
     ]
    },
    {
     "data": {
      "text/plain": [
       "<taxonomy.gbif_name_match.Taxon_resolver at 0x7fd4cc091dd8>"
      ]
     },
     "execution_count": 2,
     "metadata": {},
     "output_type": "execute_result"
    }
   ],
   "source": [
    "resolver = Taxon_resolver('Pseudococcidae')\n",
    "resolver"
   ]
  },
  {
   "cell_type": "code",
   "execution_count": 4,
   "metadata": {
    "collapsed": false
   },
   "outputs": [
    {
     "data": {
      "text/plain": [
       "{'canonicalName': 'Pseudococcidae',\n",
       " 'class': 'Insecta',\n",
       " 'classKey': 216,\n",
       " 'confidence': 96,\n",
       " 'family': 'Pseudococcidae',\n",
       " 'familyKey': 4534,\n",
       " 'kingdom': 'Animalia',\n",
       " 'kingdomKey': 1,\n",
       " 'matchType': 'EXACT',\n",
       " 'order': 'Hemiptera',\n",
       " 'orderKey': 809,\n",
       " 'phylum': 'Arthropoda',\n",
       " 'phylumKey': 54,\n",
       " 'rank': 'FAMILY',\n",
       " 'scientificName': 'Pseudococcidae',\n",
       " 'status': 'ACCEPTED',\n",
       " 'synonym': False,\n",
       " 'usageKey': 4534}"
      ]
     },
     "execution_count": 4,
     "metadata": {},
     "output_type": "execute_result"
    }
   ],
   "source": [
    "resolver.gbif_json\n"
   ]
  },
  {
   "cell_type": "code",
   "execution_count": null,
   "metadata": {
    "collapsed": false
   },
   "outputs": [],
   "source": [
    "# EXAMPLE NAMES\n",
    "terms = ['Homo sapiens', 'Gorilla gorilla', 'Pongo pongo', 'Macca mulatta',\n",
    "         'Mus musculus', 'Ailuropoda melanoleuca', 'Ailurus fulgens',\n",
    "         'Chlorotalpa tytonis', 'Arabidopsis thaliana', 'Bacillus subtilus']\n",
    "\n",
    "# RESOLVE\n",
    "# pass the terms, the datasource and the logger (optional)\n",
    "resolver = Resolver(terms=terms, datasource=\"NCBI\")\n",
    "resolver.main()  # resolve!\n",
    "idents = resolver.retrieve('query_name')\n",
    "print(idents)"
   ]
  },
  {
   "cell_type": "code",
   "execution_count": null,
   "metadata": {
    "collapsed": true
   },
   "outputs": [],
   "source": [
    "from polls.models import Question, Choice"
   ]
  },
  {
   "cell_type": "code",
   "execution_count": null,
   "metadata": {
    "collapsed": false
   },
   "outputs": [],
   "source": [
    "Question.objects.all()"
   ]
  },
  {
   "cell_type": "code",
   "execution_count": null,
   "metadata": {
    "collapsed": false
   },
   "outputs": [],
   "source": [
    "current_year = timezone.now().year\n",
    "Choice.objects.filter(question__pub_date__year=current_year)"
   ]
  },
  {
   "cell_type": "code",
   "execution_count": null,
   "metadata": {
    "collapsed": true
   },
   "outputs": [],
   "source": [
    "from taxonomy import views"
   ]
  },
  {
   "cell_type": "code",
   "execution_count": null,
   "metadata": {
    "collapsed": false
   },
   "outputs": [],
   "source": [
    "views.add_taxon2('Apidae')"
   ]
  },
  {
   "cell_type": "code",
   "execution_count": null,
   "metadata": {
    "collapsed": false
   },
   "outputs": [],
   "source": [
    "# empty Taxon table\n",
    "from taxonomy.models import Taxon\n",
    "Taxon.objects.all().delete()"
   ]
  },
  {
   "cell_type": "code",
   "execution_count": null,
   "metadata": {
    "collapsed": false
   },
   "outputs": [],
   "source": [
    "from taxonomy import views\n",
    "views.add_taxon2('Protaetia pryeri')"
   ]
  },
  {
   "cell_type": "code",
   "execution_count": null,
   "metadata": {
    "collapsed": false
   },
   "outputs": [],
   "source": [
    "views.add_taxon2('Protaetia fusca')"
   ]
  },
  {
   "cell_type": "code",
   "execution_count": null,
   "metadata": {
    "collapsed": true
   },
   "outputs": [],
   "source": [
    "from taxonomy.models import Taxon"
   ]
  },
  {
   "cell_type": "code",
   "execution_count": null,
   "metadata": {
    "collapsed": false
   },
   "outputs": [],
   "source": [
    "node = Taxon.objects.get(name='Lepidoptera')\n",
    "node.get_descendants(include_self=True)"
   ]
  },
  {
   "cell_type": "code",
   "execution_count": null,
   "metadata": {
    "collapsed": false
   },
   "outputs": [],
   "source": [
    "q.get_descendants()"
   ]
  },
  {
   "cell_type": "code",
   "execution_count": null,
   "metadata": {
    "collapsed": true
   },
   "outputs": [],
   "source": []
  }
 ],
 "metadata": {
  "kernelspec": {
   "display_name": "Django Shell-Plus",
   "language": "python",
   "name": "django_extensions"
  },
  "language_info": {
   "codemirror_mode": {
    "name": "ipython",
    "version": 3
   },
   "file_extension": ".py",
   "mimetype": "text/x-python",
   "name": "python",
   "nbconvert_exporter": "python",
   "pygments_lexer": "ipython3",
   "version": "3.5.2"
  }
 },
 "nbformat": 4,
 "nbformat_minor": 0
}
