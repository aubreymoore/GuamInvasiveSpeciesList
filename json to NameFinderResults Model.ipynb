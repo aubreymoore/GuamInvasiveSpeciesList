{
 "cells": [
  {
   "cell_type": "code",
   "execution_count": null,
   "metadata": {
    "collapsed": false
   },
   "outputs": [],
   "source": [
    "# From http://stackoverflow.com/questions/8367609/most-elegant-approach-for-writing-json-data-to-a-relational-database-using-djang\n",
    "\n",
    "def create_or_update_and_get(model_class, data):\n",
    "    get_or_create_kwargs = {\n",
    "        model_class._meta.pk.name: data.pop(model_class._meta.pk.name)\n",
    "    }\n",
    "    try:\n",
    "        # get\n",
    "        instance = model_class.objects.get(**get_or_create_kwargs)\n",
    "    except model_class.DoesNotExist:\n",
    "        # create\n",
    "        instance = model_class(**get_or_create_kwargs)\n",
    "    # update (or finish creating)\n",
    "    for key,value in data.items():\n",
    "        field = model_class._meta.get_field(key)\n",
    "        if not field:\n",
    "            continue\n",
    "        if isinstance(field, models.ManyToManyField):\n",
    "            # can't add m2m until parent is saved\n",
    "            continue\n",
    "        elif isinstance(field, models.ForeignKey) and hasattr(value, 'items'):\n",
    "            rel_instance = create_or_update_and_get(field.rel.to, value)\n",
    "            setattr(instance, key, rel_instance)\n",
    "        else:\n",
    "            setattr(instance, key, value)\n",
    "    instance.save()\n",
    "    # now add the m2m relations\n",
    "    for field in model_class._meta.many_to_many:\n",
    "        if field.name in data and hasattr(data[field.name], 'append'):\n",
    "            for obj in data[field.name]:\n",
    "                rel_instance = create_or_update_and_get(field.rel.to, obj)\n",
    "                getattr(instance, field.name).add(rel_instance)\n",
    "    return instance\n",
    "\n",
    "# for example:\n",
    "#from django.utils.simplejson import simplejson as json\n",
    "\n",
    "#data = json.loads(ninja_json)\n",
    "#ninja = create_or_update_and_get(NinjaData, data)"
   ]
  },
  {
   "cell_type": "code",
   "execution_count": null,
   "metadata": {
    "collapsed": true
   },
   "outputs": [],
   "source": [
    "\n"
   ]
  },
  {
   "cell_type": "code",
   "execution_count": null,
   "metadata": {
    "collapsed": false
   },
   "outputs": [],
   "source": [
    "!ls publications"
   ]
  },
  {
   "cell_type": "code",
   "execution_count": null,
   "metadata": {
    "collapsed": true
   },
   "outputs": [],
   "source": [
    "filename = 'publications/extracted_taxon_names_Nx3SUM1.json'\n",
    "with open(filename) as json_data:\n",
    "    d = json.load(json_data)"
   ]
  },
  {
   "cell_type": "code",
   "execution_count": null,
   "metadata": {
    "collapsed": false
   },
   "outputs": [],
   "source": [
    "data = d['resolved_names'][1]     \n",
    "data    "
   ]
  },
  {
   "cell_type": "code",
   "execution_count": null,
   "metadata": {
    "collapsed": false
   },
   "outputs": [],
   "source": [
    "for name in d['resolved_names']:\n",
    "    print('supplied_name_string: {}   is_known_name: {}'.format(\n",
    "          name['supplied_name_string'], \n",
    "          name['is_known_name']))\n",
    "    results = name['results']\n",
    "    print(results)\n",
    "    print()"
   ]
  },
  {
   "cell_type": "code",
   "execution_count": null,
   "metadata": {
    "collapsed": false
   },
   "outputs": [],
   "source": [
    "field_names = []\n",
    "for field in NameFinderResults._meta.get_fields():\n",
    "    if field.name not in ['id', 'pub']:\n",
    "        field_names.append(field.name)\n",
    "#field_names"
   ]
  },
  {
   "cell_type": "code",
   "execution_count": null,
   "metadata": {
    "collapsed": false
   },
   "outputs": [],
   "source": []
  },
  {
   "cell_type": "code",
   "execution_count": 4,
   "metadata": {
    "collapsed": false
   },
   "outputs": [
    {
     "name": "stdout",
     "output_type": "stream",
     "text": [
      "supplied_name_string: Mantodea   is_known_name: True\n",
      "supplied_name_string: Istor   is_known_name: True\n",
      "supplied_name_string: Tenodera australasiae   is_known_name: True\n",
      "supplied_name_string: Orthodera burmeisteri   is_known_name: True\n",
      "supplied_name_string: Statilia pallida   is_known_name: True\n",
      "supplied_name_string: Tenodera aridifolia sinensis   is_known_name: False\n",
      "supplied_name_string: Acromantis   is_known_name: True\n",
      "supplied_name_string: Anga ur   is_known_name: False\n",
      "supplied_name_string: Acromantis palauana   is_known_name: True\n"
     ]
    }
   ],
   "source": [
    "from publications.models import Publication\n",
    "from taxonomy.models import NameFinderResult\n",
    "from publications.models import CustomFile\n",
    "import json\n",
    "\n",
    "def json_to_name_finder_results(pub, name_finder_json):\n",
    "    d = name_finder_json\n",
    "    for name in d['resolved_names']:\n",
    "        x = NameFinderResult()\n",
    "        x.pub = pub\n",
    "        x.is_known_name = name['is_known_name']\n",
    "        x.supplied_name_string = name['supplied_name_string']\n",
    "\n",
    "        print('supplied_name_string: {}   is_known_name: {}'.format(\n",
    "              name['supplied_name_string'], \n",
    "              name['is_known_name']))\n",
    "        results = name['results']\n",
    "        if len(results) == 1:\n",
    "            r = results[0]\n",
    "            x.classification_path_ranks = r.get('classification_path_ranks','')\n",
    "            x.classification_path = r.get('classification_path','')\n",
    "            x.current_name_string = r.get('current_name_string','')\n",
    "            x.imported_at = r.get('imported_at','')\n",
    "            x.canonical_form = r.get('canonical_form','')\n",
    "            x.data_source_id = r.get('data_source_id','')\n",
    "            x.match_value = r.get('match_value','')\n",
    "            x.data_source_title = r.get('data_source_title','')\n",
    "            x.gni_uuid = r.get('gni_uuid','')\n",
    "            x.edit_distance = r.get('edit_distance','')\n",
    "            x.match_type = r.get('match_type','')\n",
    "            x.name_string = r.get('name_string','')\n",
    "            x.current_taxon_id = r.get('current_taxon_id','')\n",
    "            x.taxon_id = r.get('taxon_id','')\n",
    "            x.prescore = r.get('prescore','')\n",
    "            x.classification_path_ids = r.get('classification_path_ids','')\n",
    "            x.score = r.get('score','')\n",
    "        x.save()"
   ]
  },
  {
   "cell_type": "code",
   "execution_count": null,
   "metadata": {
    "collapsed": false
   },
   "outputs": [],
   "source": []
  },
  {
   "cell_type": "code",
   "execution_count": null,
   "metadata": {
    "collapsed": true
   },
   "outputs": [],
   "source": [
    "x."
   ]
  }
 ],
 "metadata": {
  "kernelspec": {
   "display_name": "Django Shell-Plus",
   "language": "python",
   "name": "django_extensions"
  },
  "language_info": {
   "codemirror_mode": {
    "name": "ipython",
    "version": 3
   },
   "file_extension": ".py",
   "mimetype": "text/x-python",
   "name": "python",
   "nbconvert_exporter": "python",
   "pygments_lexer": "ipython3",
   "version": "3.5.2"
  }
 },
 "nbformat": 4,
 "nbformat_minor": 0
}
