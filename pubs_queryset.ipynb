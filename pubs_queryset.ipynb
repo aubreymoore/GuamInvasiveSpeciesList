{
 "cells": [
  {
   "cell_type": "code",
   "execution_count": 1,
   "metadata": {
    "collapsed": false
   },
   "outputs": [],
   "source": [
    "from publications.models import Publication\n",
    "from publications.models import CustomFile\n",
    "import requests\n",
    "import json\n",
    "import time\n",
    "from __future__ import unicode_literals\n",
    "from django.core.files.base import ContentFile\n",
    "import json"
   ]
  },
  {
   "cell_type": "code",
   "execution_count": null,
   "metadata": {
    "collapsed": false
   },
   "outputs": [],
   "source": [
    "'''\n",
    "Publication metadata are stored by the Publication model.\n",
    "'''\n",
    "p = Publication.objects.all().values()\n",
    "p[0]"
   ]
  },
  {
   "cell_type": "code",
   "execution_count": null,
   "metadata": {
    "collapsed": false
   },
   "outputs": [],
   "source": [
    "'''\n",
    "Attached file metadata are stored by the CustomFile model.\n",
    "Records are linked to Publication objects using 'publication_id'\n",
    "as a foreign key.\n",
    "'''\n",
    "f = CustomFile.objects.all().values()\n",
    "f[0]"
   ]
  },
  {
   "cell_type": "code",
   "execution_count": null,
   "metadata": {
    "collapsed": false
   },
   "outputs": [],
   "source": [
    "def find_names(doc_url):\n",
    "    url = 'http://gnrd.globalnames.org/name_finder.json?'\n",
    "    #params = {'url': 'https://aubreymoore.github.io/crop-pest-list/list.html'}\n",
    "    params = {'url': doc_url, 'data_source_ids': '11'}\n",
    "    r = requests.get(url, params)\n",
    "    mydict = r.json()\n",
    "    token_url = mydict['token_url']\n",
    "    print('token_url: {}'.format(token_url))\n",
    "\n",
    "    # Poll the token url once a second for 100 s to see if results have been returned.\n",
    "    i = 0\n",
    "    while i <= 100:\n",
    "        i += 1\n",
    "        time.sleep(1)\n",
    "        r = requests.get(token_url)\n",
    "        mydict = r.json()\n",
    "        status = mydict.get('status','')\n",
    "        queue_size = mydict.get('queue_size','')\n",
    "        print('{} status: {} queue_size: {}'.format(i, status, queue_size))\n",
    "        if status != 303:\n",
    "            break\n",
    "    return(mydict)\n",
    "\n",
    "#doc_url = 'https://aubreymoore.github.io/crop-pest-list/list.html'\n",
    "#extracted_taxa = find_names(doc_url)"
   ]
  },
  {
   "cell_type": "code",
   "execution_count": null,
   "metadata": {
    "collapsed": false
   },
   "outputs": [],
   "source": [
    "type(extracted_taxa)"
   ]
  },
  {
   "cell_type": "code",
   "execution_count": null,
   "metadata": {
    "collapsed": false
   },
   "outputs": [],
   "source": [
    "def add_extracted_taxa()\n",
    "pub_list = Publication.objects.all()\n",
    "for pub in pub_list:\n",
    "    print('title: {} url: {}'.format(pub.title, pub.url))\n",
    "    file_list = CustomFile.objects.filter(\n",
    "        publication_id=pub.id).filter(\n",
    "        description='extracted taxon names')\n",
    "    if not file_list:\n",
    "        taxa = find_names(pub.url)\n",
    "        json_string = json.dumps(taxa)\n",
    "        django_file = ContentFile(json_string)\n",
    "        newfile = CustomFile()\n",
    "        newfile.publication_id = 2\n",
    "        newfile.description = 'extracted taxon names'\n",
    "        newfile.file.save('extracted_taxon_names.json', django_file, save=True)\n",
    "        print('new file attached.')\n",
    "    else:\n",
    "        print('A file with description \"extracted_taxon_names\" already exists')"
   ]
  },
  {
   "cell_type": "code",
   "execution_count": null,
   "metadata": {
    "collapsed": false
   },
   "outputs": [],
   "source": [
    "doc_url = 'https://aubreymoore.github.io/crop-pest-list/list.html'\n",
    "species_list = find_names(doc_url)"
   ]
  },
  {
   "cell_type": "code",
   "execution_count": null,
   "metadata": {
    "collapsed": false
   },
   "outputs": [],
   "source": []
  },
  {
   "cell_type": "code",
   "execution_count": null,
   "metadata": {
    "collapsed": true
   },
   "outputs": [],
   "source": []
  }
 ],
 "metadata": {
  "kernelspec": {
   "display_name": "Django Shell-Plus",
   "language": "python",
   "name": "django_extensions"
  },
  "language_info": {
   "codemirror_mode": {
    "name": "ipython",
    "version": 3
   },
   "file_extension": ".py",
   "mimetype": "text/x-python",
   "name": "python",
   "nbconvert_exporter": "python",
   "pygments_lexer": "ipython3",
   "version": "3.5.2"
  }
 },
 "nbformat": 4,
 "nbformat_minor": 0
}
